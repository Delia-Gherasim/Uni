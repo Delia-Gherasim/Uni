{
 "cells": [
  {
   "cell_type": "code",
   "execution_count": 2,
   "id": "22d6482a-faee-48c3-96a1-117960244b8c",
   "metadata": {},
   "outputs": [],
   "source": [
    "import numpy as np\n"
   ]
  },
  {
   "cell_type": "code",
   "execution_count": 3,
   "id": "fd302ac5-00bf-4fb2-bc9a-2ef41c6b697e",
   "metadata": {},
   "outputs": [
    {
     "data": {
      "text/plain": [
       "4"
      ]
     },
     "execution_count": 3,
     "metadata": {},
     "output_type": "execute_result"
    }
   ],
   "source": [
    "my_array = np.array([1, 2, 3, 4])\n",
    "# works as it would with a standard list\n",
    "len(my_array)"
   ]
  },
  {
   "cell_type": "code",
   "execution_count": 4,
   "id": "4707d3bc-76f5-4cb4-986a-d71957734ed2",
   "metadata": {},
   "outputs": [
    {
     "data": {
      "text/plain": [
       "(4,)"
      ]
     },
     "execution_count": 4,
     "metadata": {},
     "output_type": "execute_result"
    }
   ],
   "source": [
    "my_array.shape"
   ]
  },
  {
   "cell_type": "code",
   "execution_count": 5,
   "id": "e0e257dc-5936-469a-b686-86a606908cb8",
   "metadata": {},
   "outputs": [
    {
     "data": {
      "text/plain": [
       "dtype('int32')"
      ]
     },
     "execution_count": 5,
     "metadata": {},
     "output_type": "execute_result"
    }
   ],
   "source": [
    "my_array.dtype"
   ]
  },
  {
   "cell_type": "code",
   "execution_count": 6,
   "id": "fbbe1459-5d45-4412-989b-446a8f448d36",
   "metadata": {},
   "outputs": [
    {
     "name": "stdout",
     "output_type": "stream",
     "text": [
      "4\n",
      "[3 4]\n",
      "1\n",
      "2\n",
      "3\n",
      "4\n"
     ]
    }
   ],
   "source": [
    "print(len(my_array))\n",
    "print(my_array[2:4])\n",
    "for element in my_array:\n",
    "    print(element)"
   ]
  },
  {
   "cell_type": "code",
   "execution_count": 7,
   "id": "b9ef5c29-b620-4e11-a572-3e45961cfd78",
   "metadata": {},
   "outputs": [
    {
     "name": "stdout",
     "output_type": "stream",
     "text": [
      "2.5\n",
      "2.5\n"
     ]
    }
   ],
   "source": [
    "print(my_array.mean())\n",
    "print(np.mean(my_array))\n"
   ]
  },
  {
   "cell_type": "code",
   "execution_count": 8,
   "id": "033911fa-63bc-4e69-9f5a-d21d690339e9",
   "metadata": {},
   "outputs": [
    {
     "data": {
      "text/plain": [
       "array([1., 1., 1., 1., 1., 1., 1., 1., 1., 1.])"
      ]
     },
     "execution_count": 8,
     "metadata": {},
     "output_type": "execute_result"
    }
   ],
   "source": [
    "np.ones(10) # generates 10 floating point ones"
   ]
  },
  {
   "cell_type": "code",
   "execution_count": 9,
   "id": "8918fc08-3378-4f97-8563-0ef6c44ee90f",
   "metadata": {},
   "outputs": [
    {
     "data": {
      "text/plain": [
       "8"
      ]
     },
     "execution_count": 9,
     "metadata": {},
     "output_type": "execute_result"
    }
   ],
   "source": [
    "np.dtype(float).itemsize # in bytes (remember, 1 byte = 8 bits)\n"
   ]
  },
  {
   "cell_type": "code",
   "execution_count": 10,
   "id": "d3fc2311-9c67-4d16-97e0-cbb823e46d45",
   "metadata": {},
   "outputs": [
    {
     "data": {
      "text/plain": [
       "array([1, 1, 1, 1, 1, 1, 1, 1, 1, 1])"
      ]
     },
     "execution_count": 10,
     "metadata": {},
     "output_type": "execute_result"
    }
   ],
   "source": [
    "np.ones(10, dtype='int') # generates 10 integer ones"
   ]
  },
  {
   "cell_type": "code",
   "execution_count": 11,
   "id": "e664698d-7e70-4c8e-adbe-0de9b97249d6",
   "metadata": {},
   "outputs": [
    {
     "data": {
      "text/plain": [
       "array([0., 0., 0., 0., 0., 0., 0., 0., 0., 0.])"
      ]
     },
     "execution_count": 11,
     "metadata": {},
     "output_type": "execute_result"
    }
   ],
   "source": [
    "np.zeros(10)"
   ]
  },
  {
   "cell_type": "code",
   "execution_count": 12,
   "id": "53c05a8b-c578-4751-b235-aabee8d794f6",
   "metadata": {},
   "outputs": [
    {
     "data": {
      "text/plain": [
       "array([0.77420185, 0.74768217, 0.10705176, 0.59517408, 0.1335782 ,\n",
       "       0.02080134, 0.49496085, 0.68364404, 0.68447884, 0.2841011 ])"
      ]
     },
     "execution_count": 12,
     "metadata": {},
     "output_type": "execute_result"
    }
   ],
   "source": [
    "np.random.random(10) # uniform from [0,1]"
   ]
  },
  {
   "cell_type": "code",
   "execution_count": 13,
   "id": "0961f9c1-ffc7-4bc2-a968-136927eb4ece",
   "metadata": {},
   "outputs": [
    {
     "name": "stdout",
     "output_type": "stream",
     "text": [
      "The sample mean and standard devation are -0.028826 and 1.026936, respectively.\n"
     ]
    }
   ],
   "source": [
    "normal_array = np.random.randn(1000)\n",
    "print(\"The sample mean and standard devation are %f and %f, respectively.\" %(np.mean(normal_array), np.std(normal_array)))"
   ]
  },
  {
   "cell_type": "code",
   "execution_count": 14,
   "id": "7724725a-188f-4a94-b7b3-52a3e78bc141",
   "metadata": {},
   "outputs": [
    {
     "data": {
      "text/plain": [
       "1000"
      ]
     },
     "execution_count": 14,
     "metadata": {},
     "output_type": "execute_result"
    }
   ],
   "source": [
    "len(normal_array)"
   ]
  },
  {
   "cell_type": "code",
   "execution_count": 15,
   "id": "1e3c0c2b-b21a-496c-a447-309572f3ca2b",
   "metadata": {},
   "outputs": [
    {
     "data": {
      "text/plain": [
       "array([0. , 0.1, 0.2, 0.3, 0.4, 0.5, 0.6, 0.7, 0.8, 0.9, 1. ])"
      ]
     },
     "execution_count": 15,
     "metadata": {},
     "output_type": "execute_result"
    }
   ],
   "source": [
    "grid = np.arange(0., 1.01, 0.1)\n",
    "grid"
   ]
  },
  {
   "cell_type": "code",
   "execution_count": 16,
   "id": "e1958424-4063-4212-9b5b-6919c6f442eb",
   "metadata": {},
   "outputs": [
    {
     "data": {
      "text/plain": [
       "array([0.1, 0. , 0.6, 0.5, 0.2])"
      ]
     },
     "execution_count": 16,
     "metadata": {},
     "output_type": "execute_result"
    }
   ],
   "source": [
    "np.random.choice(grid, 5, replace=False)"
   ]
  },
  {
   "cell_type": "code",
   "execution_count": 17,
   "id": "ac282d4e-c3d6-4610-82c3-b68faa68a7b4",
   "metadata": {},
   "outputs": [
    {
     "ename": "ValueError",
     "evalue": "Cannot take a larger sample than population when 'replace=False'",
     "output_type": "error",
     "traceback": [
      "\u001b[1;31m---------------------------------------------------------------------------\u001b[0m",
      "\u001b[1;31mValueError\u001b[0m                                Traceback (most recent call last)",
      "Cell \u001b[1;32mIn[17], line 1\u001b[0m\n\u001b[1;32m----> 1\u001b[0m np\u001b[38;5;241m.\u001b[39mrandom\u001b[38;5;241m.\u001b[39mchoice(grid, \u001b[38;5;241m20\u001b[39m, replace\u001b[38;5;241m=\u001b[39m\u001b[38;5;28;01mFalse\u001b[39;00m)\n",
      "File \u001b[1;32mnumpy\\\\random\\\\mtrand.pyx:1001\u001b[0m, in \u001b[0;36mnumpy.random.mtrand.RandomState.choice\u001b[1;34m()\u001b[0m\n",
      "\u001b[1;31mValueError\u001b[0m: Cannot take a larger sample than population when 'replace=False'"
     ]
    }
   ],
   "source": [
    "np.random.choice(grid, 20, replace=False)"
   ]
  },
  {
   "cell_type": "code",
   "execution_count": 18,
   "id": "36d6d6f6-8c1c-4daf-affd-bc77c55eba10",
   "metadata": {},
   "outputs": [
    {
     "data": {
      "text/plain": [
       "array([0.2, 0.5, 0.7, 0.8, 0.4, 0.6, 0.8, 0.7, 0.5, 1. , 0.7, 1. , 0.4,\n",
       "       0.4, 0.4, 0.5, 0.2, 0.7, 0.9, 0.9])"
      ]
     },
     "execution_count": 18,
     "metadata": {},
     "output_type": "execute_result"
    }
   ],
   "source": [
    "np.random.choice(grid, 20, replace=True)\n"
   ]
  },
  {
   "cell_type": "code",
   "execution_count": 19,
   "id": "4e17dc90-938d-4310-9a20-3cbb51a3f55e",
   "metadata": {},
   "outputs": [
    {
     "data": {
      "text/plain": [
       "(array([ 9.91991992,  9.93993994,  9.95995996,  9.97997998, 10.        ]),\n",
       " array([-10.        ,  -9.97997998,  -9.95995996,  -9.93993994,\n",
       "         -9.91991992]))"
      ]
     },
     "execution_count": 19,
     "metadata": {},
     "output_type": "execute_result"
    }
   ],
   "source": [
    "x = np.linspace(-10, 10, 1000) # linspace() returns evenly-spaced numbers over a specified interval\n",
    "x[-5:], x[:5]"
   ]
  },
  {
   "cell_type": "code",
   "execution_count": 20,
   "id": "2fc08d66-513a-4b7a-9baa-c8256a28ff05",
   "metadata": {},
   "outputs": [
    {
     "data": {
      "image/png": "[encoded data removed]",
      "text/plain": [
       "<Figure size 640x480 with 1 Axes>"
      ]
     },
     "metadata": {},
     "output_type": "display_data"
    }
   ],
   "source": [
    "import matplotlib.pyplot as plt\n",
    "x = [1, 2]\n",
    "y = [1, 5]\n",
    "plt.plot(x, y)\n",
    "plt.show()"
   ]
  },
  {
   "cell_type": "code",
   "execution_count": null,
   "id": "8f7c2ed5-3e36-4eb8-8378-ce43b32e63d3",
   "metadata": {},
   "outputs": [],
   "source": []
  },
  {
   "cell_type": "code",
   "execution_count": 21,
   "id": "34a15059-ad02-4ac0-8593-3de9ac53de2e",
   "metadata": {},
   "outputs": [
    {
     "data": {
      "image/png": "[encoded data removed]",
      "text/plain": [
       "<Figure size 640x480 with 1 Axes>"
      ]
     },
     "metadata": {},
     "output_type": "display_data"
    }
   ],
   "source": [
    "import matplotlib.pyplot as plt\n",
    "import numpy as np\n",
    "x = np.random.randint(low=1, high=20, size=30)\n",
    "plt.plot(x, color = 'blue', linewidth=3, linestyle='dashed')\n",
    "plt.show()"
   ]
  },
  {
   "cell_type": "code",
   "execution_count": 22,
   "id": "72280c4b-d996-45ea-8c31-9ad4285c758a",
   "metadata": {},
   "outputs": [],
   "source": [
    "import torch"
   ]
  },
  {
   "cell_type": "code",
   "execution_count": 23,
   "id": "56097da5-3e8a-4955-ba42-fc1b7aefb090",
   "metadata": {},
   "outputs": [
    {
     "name": "stdout",
     "output_type": "stream",
     "text": [
      "<class 'torch.Tensor'>\n",
      "tensor([[0., 0., 0., 0.],\n",
      "        [0., 0., 0., 0.],\n",
      "        [0., 0., 0., 0.]])\n"
     ]
    }
   ],
   "source": [
    "x = torch.empty(3, 4)\n",
    "print(type(x))\n",
    "print(x)"
   ]
  },
  {
   "cell_type": "code",
   "execution_count": 24,
   "id": "76d9538f-5350-47a0-9a0a-c44263f31eec",
   "metadata": {},
   "outputs": [
    {
     "name": "stdout",
     "output_type": "stream",
     "text": [
      "tensor([[0., 0., 0.],\n",
      "        [0., 0., 0.]])\n"
     ]
    }
   ],
   "source": [
    "zeros = torch.zeros(2, 3)\n",
    "print(zeros)"
   ]
  },
  {
   "cell_type": "code",
   "execution_count": 25,
   "id": "8e49c117-1c1d-4b0f-aae1-8d5290bb3743",
   "metadata": {},
   "outputs": [
    {
     "name": "stdout",
     "output_type": "stream",
     "text": [
      "tensor([[1., 1., 1.],\n",
      "        [1., 1., 1.]])\n"
     ]
    }
   ],
   "source": [
    "ones = torch.ones(2, 3)\n",
    "print(ones)"
   ]
  },
  {
   "cell_type": "code",
   "execution_count": 26,
   "id": "0d6187a4-8761-4e32-a6af-e7a8fa7f79b2",
   "metadata": {},
   "outputs": [
    {
     "name": "stdout",
     "output_type": "stream",
     "text": [
      "tensor([[0.3126, 0.3791, 0.3087],\n",
      "        [0.0736, 0.4216, 0.0691]])\n"
     ]
    }
   ],
   "source": [
    "torch.manual_seed(1729)\n",
    "random = torch.rand(2, 3)\n",
    "print(random)"
   ]
  },
  {
   "cell_type": "code",
   "execution_count": 27,
   "id": "7302b756-c773-43aa-8e03-4c8492693ac0",
   "metadata": {},
   "outputs": [
    {
     "name": "stdout",
     "output_type": "stream",
     "text": [
      "tensor([[0.7576, 0.2793, 0.4031],\n",
      "        [0.7347, 0.0293, 0.7999]])\n",
      "tensor([[0.3971, 0.7544, 0.5695],\n",
      "        [0.4388, 0.6387, 0.5247]])\n",
      "tensor([[0.7576, 0.2793, 0.4031],\n",
      "        [0.7347, 0.0293, 0.7999]])\n",
      "tensor([[0.3971, 0.7544, 0.5695],\n",
      "        [0.4388, 0.6387, 0.5247]])\n"
     ]
    }
   ],
   "source": [
    "torch.manual_seed(1)\n",
    "random1 = torch.rand(2, 3)\n",
    "print(random1)\n",
    "\n",
    "random2 = torch.rand(2, 3)\n",
    "print(random2)\n",
    "\n",
    "torch.manual_seed(1)\n",
    "random3 = torch.rand(2, 3)\n",
    "print(random3)\n",
    "\n",
    "random4 = torch.rand(2, 3)\n",
    "print(random4)"
   ]
  },
  {
   "cell_type": "code",
   "execution_count": 28,
   "id": "47919da3-2111-43e4-ab7a-d4600d588acc",
   "metadata": {},
   "outputs": [
    {
     "name": "stdout",
     "output_type": "stream",
     "text": [
      "torch.Size([2, 2, 3])\n",
      "tensor([[[0., 0., 0.],\n",
      "         [0., 0., 0.]],\n",
      "\n",
      "        [[0., 0., 0.],\n",
      "         [0., 0., 0.]]])\n",
      "torch.Size([2, 2, 3])\n",
      "tensor([[[0., 0., 0.],\n",
      "         [0., 0., 0.]],\n",
      "\n",
      "        [[0., 0., 0.],\n",
      "         [0., 0., 0.]]])\n",
      "torch.Size([2, 2, 3])\n",
      "tensor([[[0., 0., 0.],\n",
      "         [0., 0., 0.]],\n",
      "\n",
      "        [[0., 0., 0.],\n",
      "         [0., 0., 0.]]])\n",
      "torch.Size([2, 2, 3])\n",
      "tensor([[[1., 1., 1.],\n",
      "         [1., 1., 1.]],\n",
      "\n",
      "        [[1., 1., 1.],\n",
      "         [1., 1., 1.]]])\n",
      "torch.Size([2, 2, 3])\n",
      "tensor([[[0.6826, 0.3051, 0.4635],\n",
      "         [0.4550, 0.5725, 0.4980]],\n",
      "\n",
      "        [[0.9371, 0.6556, 0.3138],\n",
      "         [0.1980, 0.4162, 0.2843]]])\n"
     ]
    }
   ],
   "source": [
    "x = torch.empty(2, 2, 3)\n",
    "print(x.shape)\n",
    "print(x)\n",
    "\n",
    "empty_like_x = torch.empty_like(x)\n",
    "print(empty_like_x.shape)\n",
    "print(empty_like_x)\n",
    "\n",
    "zeros_like_x = torch.zeros_like(x)\n",
    "print(zeros_like_x.shape)\n",
    "print(zeros_like_x)\n",
    "\n",
    "ones_like_x = torch.ones_like(x)\n",
    "print(ones_like_x.shape)\n",
    "print(ones_like_x)\n",
    "\n",
    "rand_like_x = torch.rand_like(x)\n",
    "print(rand_like_x.shape)\n",
    "print(rand_like_x)"
   ]
  },
  {
   "cell_type": "code",
   "execution_count": 29,
   "id": "d4fe2396-65fe-445a-8c50-1c9a7c8e93ea",
   "metadata": {},
   "outputs": [
    {
     "name": "stdout",
     "output_type": "stream",
     "text": [
      "Sorry, CPU only.\n"
     ]
    }
   ],
   "source": [
    "if torch.cuda.is_available():\n",
    "    print('We have a GPU!')\n",
    "else:\n",
    "    print('Sorry, CPU only.')"
   ]
  },
  {
   "cell_type": "code",
   "execution_count": 30,
   "id": "c33aa74c-1b68-4e1a-8efe-cec9ad9f7fb4",
   "metadata": {},
   "outputs": [
    {
     "name": "stdout",
     "output_type": "stream",
     "text": [
      "Device: cpu\n",
      "tensor([[0.3398, 0.5239],\n",
      "        [0.7981, 0.7718]])\n"
     ]
    }
   ],
   "source": [
    "if torch.cuda.is_available():\n",
    "    my_device = torch.device('cuda')\n",
    "else:\n",
    "    my_device = torch.device('cpu')\n",
    "print('Device: {}'.format(my_device))\n",
    "\n",
    "x = torch.rand(2, 2, device=my_device)\n",
    "print(x)"
   ]
  },
  {
   "cell_type": "code",
   "execution_count": 34,
   "id": "091075af-1b99-45a8-8aeb-e0df4ced5b11",
   "metadata": {},
   "outputs": [
    {
     "name": "stdout",
     "output_type": "stream",
     "text": [
      "PNG\n",
      "P\n",
      "(225, 225)\n"
     ]
    }
   ],
   "source": [
    "# load and show an image with Pillow\n",
    "from PIL import Image\n",
    "# load the image\n",
    "image = Image.open('opera.png')\n",
    "# summarize some details about the image\n",
    "print(image.format)\n",
    "print(image.mode)\n",
    "print(image.size)\n",
    "# show the image\n",
    "image.show()"
   ]
  },
  {
   "cell_type": "code",
   "execution_count": 35,
   "id": "04111f89-140e-474c-ab90-62ea0ba970ca",
   "metadata": {},
   "outputs": [
    {
     "name": "stdout",
     "output_type": "stream",
     "text": [
      "float32\n",
      "(225, 225, 4)\n"
     ]
    },
    {
     "data": {
      "image/png": "[encoded data removed]",
      "text/plain": [
       "<Figure size 640x480 with 1 Axes>"
      ]
     },
     "metadata": {},
     "output_type": "display_data"
    }
   ],
   "source": [
    "# load and display an image with Matplotlib\n",
    "from matplotlib import image\n",
    "from matplotlib import pyplot\n",
    "# load image as pixel array\n",
    "data = image.imread('opera.png')\n",
    "# summarize shape of the pixel array\n",
    "print(data.dtype)\n",
    "print(data.shape)\n",
    "# display the array of pixels as an image\n",
    "pyplot.imshow(data)\n",
    "pyplot.show()"
   ]
  },
  {
   "cell_type": "code",
   "execution_count": 36,
   "id": "3898bb21-f8ce-42b1-b7a4-ba9729de3020",
   "metadata": {},
   "outputs": [
    {
     "name": "stdout",
     "output_type": "stream",
     "text": [
      "(225, 225)\n",
      "(100, 100)\n"
     ]
    }
   ],
   "source": [
    "# create a thumbnail of an image\n",
    "from PIL import Image\n",
    "# load the image\n",
    "image = Image.open('opera.png')\n",
    "# report the size of the image\n",
    "print(image.size)\n",
    "# create a thumbnail and preserve aspect ratio\n",
    "image.thumbnail((100,100))\n",
    "# report the size of the thumbnail\n",
    "print(image.size)"
   ]
  },
  {
   "cell_type": "code",
   "execution_count": 80,
   "id": "ed30d39a-f469-4510-aa99-db77eb54fb7f",
   "metadata": {},
   "outputs": [
    {
     "name": "stdout",
     "output_type": "stream",
     "text": [
      "Randomly generated index: 0\n"
     ]
    }
   ],
   "source": [
    "def spinner(probabilityDistribution):\n",
    "    n = len(probabilityDistribution)\n",
    "    if np.sum(probabilityDistribution) != 1:\n",
    "        print (\"The sum of probabilities must be 1.\")\n",
    "    rand_num = np.random.rand()\n",
    "    cumulative_prob = 0\n",
    "   \n",
    "    for i in range(n):\n",
    "        cumulative_prob += probabilityDistribution[i]\n",
    "        if rand_num < cumulative_prob:\n",
    "            return i\n",
    "\n",
    "probabilityDistribution = [0.1, 0.2, 0.3, 0.4]\n",
    "print(\"Randomly generated index:\", spinner(probabilityDistribution))"
   ]
  },
  {
   "cell_type": "code",
   "execution_count": 82,
   "id": "1bfa0e0d-ecf2-49f3-adae-1d8931aec839",
   "metadata": {},
   "outputs": [
    {
     "name": "stdout",
     "output_type": "stream",
     "text": [
      "The probability for the slot  0  is  0.125\n",
      "The probability for the slot  1  is  0.2361\n",
      "The probability for the slot  2  is  0.1944\n",
      "The probability for the slot  3  is  0.4444\n",
      "Randomly generated index: 2\n"
     ]
    }
   ],
   "source": [
    "def spinner(probabilityDistribution):\n",
    "    n = len(probabilityDistribution)\n",
    "    if np.sum(probabilityDistribution) != 360:\n",
    "        print (\"The sum of probabilities must be 360.\")\n",
    "        return\n",
    "        \n",
    "    for i in range(n):\n",
    "        probabilityDistribution[i]=round(probabilityDistribution[i]/360, 4);\n",
    "        print(\"The probability for the slot \", i, \" is \", probabilityDistribution[i])\n",
    "        \n",
    "    randNum = np.random.rand()\n",
    "    cumulativeProb = 0\n",
    "    for i in range(n):\n",
    "        cumulativeProb += probabilityDistribution[i]\n",
    "        if randNum < cumulativeProb:\n",
    "            return i\n",
    "\n",
    "probabilityDistribution = [45, 85, 70, 160]\n",
    "print(\"Randomly generated index:\", spinner(probabilityDistribution))"
   ]
  },
  {
   "cell_type": "code",
   "execution_count": 89,
   "id": "12435db7-758e-4848-ad14-0bb1a4d1341c",
   "metadata": {},
   "outputs": [
    {
     "name": "stdout",
     "output_type": "stream",
     "text": [
      "Mathematically deduced probability: 0.2827433388230814\n",
      "Monte Carlo simulation probability: 0.07151\n"
     ]
    }
   ],
   "source": [
    "import numpy as np\n",
    "\n",
    "R = 30  \n",
    "l = 100  \n",
    "r = 1  \n",
    "mathematicalProb = np.pi * R**2 / l**2\n",
    "numberPoints = 100000\n",
    "x = np.random.uniform(0, l, numberPoints)\n",
    "y = np.random.uniform(0, l, numberPoints)\n",
    "insidePipe = np.sum(x**2 + y**2 <= R**2)\n",
    "\n",
    "monteCarlo = insidePipe / numberPoints\n",
    "\n",
    "print(\"Mathematically deduced probability:\", mathematicalProb)\n",
    "print(\"Monte Carlo simulation probability:\", monteCarlo)"
   ]
  },
  {
   "cell_type": "code",
   "execution_count": null,
   "id": "c2980f30-ba32-494c-be09-5a6de29729be",
   "metadata": {},
   "outputs": [],
   "source": []
  }
 ],
 "metadata": {
  "kernelspec": {
   "display_name": "Python 3 (ipykernel)",
   "language": "python",
   "name": "python3"
  },
  "language_info": {
   "codemirror_mode": {
    "name": "ipython",
    "version": 3
   },
   "file_extension": ".py",
   "mimetype": "text/x-python",
   "name": "python",
   "nbconvert_exporter": "python",
   "pygments_lexer": "ipython3",
   "version": "3.11.8"
  }
 },
 "nbformat": 4,
 "nbformat_minor": 5
}
