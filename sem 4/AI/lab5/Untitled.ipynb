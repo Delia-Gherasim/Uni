{
 "cells": [
  {
   "cell_type": "code",
   "execution_count": 10,
   "id": "83aa0f18-35a2-4eb3-be51-6a7e7b072831",
   "metadata": {},
   "outputs": [],
   "source": [
    "import torch\n",
    "import torch.nn as nn\n",
    "from collections import OrderedDict\n",
    "import torch.optim as optim"
   ]
  },
  {
   "cell_type": "code",
   "execution_count": 11,
   "id": "10da07e8-4ca5-4ac8-a8fa-ce724500fb03",
   "metadata": {},
   "outputs": [],
   "source": [
    "model1 = nn.Sequential(OrderedDict([\n",
    "    ('hidden', nn.Sequential(nn.Linear(2, 2), nn.Sigmoid())),\n",
    "    ('output', nn.Sequential(nn.Linear(2, 1), nn.Sigmoid()))]))\n",
    "\n",
    "model2 = nn.Sequential(OrderedDict([\n",
    "    ('hidden', nn.Sequential(nn.Linear(2, 4), nn.Sigmoid())),\n",
    "    ('output', nn.Sequential(nn.Linear(4, 1), nn.Sigmoid()))]))\n",
    "\n",
    "model3 = nn.Sequential(OrderedDict([\n",
    "    ('hidden', nn.Sequential(nn.Linear(2, 8), nn.Sigmoid())),\n",
    "    ('output', nn.Sequential(nn.Linear(8, 1), nn.Sigmoid()))]))"
   ]
  },
  {
   "cell_type": "code",
   "execution_count": 12,
   "id": "ec5c0f0e-548c-4feb-8d45-5730360bccde",
   "metadata": {},
   "outputs": [
    {
     "name": "stdout",
     "output_type": "stream",
     "text": [
      "Sequential(\n",
      "  (hidden): Sequential(\n",
      "    (0): Linear(in_features=2, out_features=2, bias=True)\n",
      "    (1): Sigmoid()\n",
      "  )\n",
      "  (output): Sequential(\n",
      "    (0): Linear(in_features=2, out_features=1, bias=True)\n",
      "    (1): Sigmoid()\n",
      "  )\n",
      ")\n",
      "Sequential(\n",
      "  (hidden): Sequential(\n",
      "    (0): Linear(in_features=2, out_features=4, bias=True)\n",
      "    (1): Sigmoid()\n",
      "  )\n",
      "  (output): Sequential(\n",
      "    (0): Linear(in_features=4, out_features=1, bias=True)\n",
      "    (1): Sigmoid()\n",
      "  )\n",
      ")\n",
      "Sequential(\n",
      "  (hidden): Sequential(\n",
      "    (0): Linear(in_features=2, out_features=8, bias=True)\n",
      "    (1): Sigmoid()\n",
      "  )\n",
      "  (output): Sequential(\n",
      "    (0): Linear(in_features=8, out_features=1, bias=True)\n",
      "    (1): Sigmoid()\n",
      "  )\n",
      ")\n"
     ]
    }
   ],
   "source": [
    "print(model1)\n",
    "print(model2)\n",
    "print(model3)"
   ]
  },
  {
   "cell_type": "code",
   "execution_count": 13,
   "id": "f3b57709-c6c2-4a8e-9ccc-01c93e35a851",
   "metadata": {},
   "outputs": [
    {
     "name": "stdout",
     "output_type": "stream",
     "text": [
      "tensor([[0., 0.],\n",
      "        [0., 1.],\n",
      "        [1., 0.],\n",
      "        [1., 1.]])\n"
     ]
    }
   ],
   "source": [
    "data_in = torch.tensor([[0, 0], [0, 1], [1, 0], [1, 1]], dtype=torch.float32)\n",
    "print(data_in)"
   ]
  },
  {
   "cell_type": "code",
   "execution_count": 19,
   "id": "974c1ccd-c5e3-4d3b-9095-501df21975d6",
   "metadata": {},
   "outputs": [
    {
     "name": "stdout",
     "output_type": "stream",
     "text": [
      "tensor([[0.],\n",
      "        [1.],\n",
      "        [1.],\n",
      "        [1.]])\n"
     ]
    }
   ],
   "source": [
    "data_target = torch.tensor([[0], [1], [1], [1]], dtype=torch.float32)\n",
    "print(data_target)"
   ]
  },
  {
   "cell_type": "code",
   "execution_count": 20,
   "id": "c4d9359b-2594-4b21-ac33-a79b40bf2d02",
   "metadata": {},
   "outputs": [],
   "source": [
    "criterion = nn.BCELoss() \n",
    "optimizer = optim.SGD(model1.parameters(), lr=0.1)"
   ]
  },
  {
   "cell_type": "code",
   "execution_count": 21,
   "id": "889964a4-c44c-473d-a89f-79ee0ae9fef8",
   "metadata": {},
   "outputs": [
    {
     "name": "stdout",
     "output_type": "stream",
     "text": [
      "Evaluating Model 1:\n",
      "Epoch [100/1000], Loss: 0.5391\n",
      "Epoch [200/1000], Loss: 0.5157\n",
      "Epoch [300/1000], Loss: 0.4807\n",
      "Epoch [400/1000], Loss: 0.4324\n",
      "Epoch [500/1000], Loss: 0.3732\n",
      "Epoch [600/1000], Loss: 0.3097\n",
      "Epoch [700/1000], Loss: 0.2494\n",
      "Epoch [800/1000], Loss: 0.1979\n",
      "Epoch [900/1000], Loss: 0.1571\n",
      "Epoch [1000/1000], Loss: 0.1261\n",
      "Model 1 Training Time: 1.7757 seconds\n",
      "Model 1 Accuracy: 1.0000\n",
      "\n",
      "Evaluating Model 2:\n",
      "Epoch [100/1000], Loss: 0.6918\n",
      "Epoch [200/1000], Loss: 0.6918\n",
      "Epoch [300/1000], Loss: 0.6918\n",
      "Epoch [400/1000], Loss: 0.6918\n",
      "Epoch [500/1000], Loss: 0.6918\n",
      "Epoch [600/1000], Loss: 0.6918\n",
      "Epoch [700/1000], Loss: 0.6918\n",
      "Epoch [800/1000], Loss: 0.6918\n",
      "Epoch [900/1000], Loss: 0.6918\n",
      "Epoch [1000/1000], Loss: 0.6918\n",
      "Model 2 Training Time: 1.4680 seconds\n",
      "Model 2 Accuracy: 0.7500\n",
      "\n",
      "Evaluating Model 3:\n",
      "Epoch [100/1000], Loss: 0.7106\n",
      "Epoch [200/1000], Loss: 0.7106\n",
      "Epoch [300/1000], Loss: 0.7106\n",
      "Epoch [400/1000], Loss: 0.7106\n",
      "Epoch [500/1000], Loss: 0.7106\n",
      "Epoch [600/1000], Loss: 0.7106\n",
      "Epoch [700/1000], Loss: 0.7106\n",
      "Epoch [800/1000], Loss: 0.7106\n",
      "Epoch [900/1000], Loss: 0.7106\n",
      "Epoch [1000/1000], Loss: 0.7106\n",
      "Model 3 Training Time: 1.4465 seconds\n",
      "Model 3 Accuracy: 0.2500\n",
      "\n"
     ]
    }
   ],
   "source": [
    "# Train the model\n",
    "import time\n",
    "def train_model(model, criterion, optimizer, X, Y, epochs=1000):\n",
    "    start_time = time.time()\n",
    "    for epoch in range(epochs):\n",
    "        optimizer.zero_grad()\n",
    "        outputs = model(X)\n",
    "        loss = criterion(outputs, Y)\n",
    "        loss.backward()\n",
    "        optimizer.step()\n",
    "        if (epoch+1) % 100 == 0:\n",
    "            print(f'Epoch [{epoch+1}/{epochs}], Loss: {loss.item():.4f}')\n",
    "\n",
    "    end_time = time.time()  \n",
    "    training_time = end_time - start_time \n",
    "    return training_time\n",
    "\n",
    "models = [model1, model2, model3]\n",
    "for i, model in enumerate(models, 1):\n",
    "    print(f\"Evaluating Model {i}:\")\n",
    "    training_time = train_model(model, criterion, optimizer, data_in, data_target)\n",
    "\n",
    "    with torch.no_grad():\n",
    "        predicted = model(data_in).round().squeeze()\n",
    "        accuracy = (predicted == data_target.squeeze()).sum().item() / len(data_target)\n",
    "    \n",
    "    print(f\"Model {i} Training Time: {training_time:.4f} seconds\")\n",
    "    print(f\"Model {i} Accuracy: {accuracy:.4f}\\n\")"
   ]
  },
  {
   "cell_type": "code",
   "execution_count": 22,
   "id": "33706d5b-18db-4a89-ac1e-801c1063cdee",
   "metadata": {},
   "outputs": [
    {
     "name": "stdout",
     "output_type": "stream",
     "text": [
      "Layer: hidden.0.weight | Size: torch.Size([2, 2])\n",
      "tensor([[-1.2698, -1.3064],\n",
      "        [ 2.8888,  2.7685]])\n",
      "Layer: hidden.0.bias | Size: torch.Size([2])\n",
      "tensor([ 0.3376, -1.4623])\n",
      "Layer: output.0.weight | Size: torch.Size([1, 2])\n",
      "tensor([[-2.3113,  4.4462]])\n",
      "Layer: output.0.bias | Size: torch.Size([1])\n",
      "tensor([-0.6172])\n"
     ]
    }
   ],
   "source": [
    "# print model wights\n",
    "import numpy as np\n",
    "models = [model1, model2, model3]\n",
    "best_model = models[np.argmin([criterion(model(data_in), data_target).item() for model in models])]\n",
    "for name, param in best_model.named_parameters():\n",
    "    if param.requires_grad:\n",
    "        print(f'Layer: {name} | Size: {param.size()}')\n",
    "        print(param.data)"
   ]
  },
  {
   "cell_type": "code",
   "execution_count": null,
   "id": "8b1e0b91-c6b8-4cd6-beea-3ed1cb1dfb8a",
   "metadata": {},
   "outputs": [],
   "source": []
  }
 ],
 "metadata": {
  "kernelspec": {
   "display_name": "Python 3 (ipykernel)",
   "language": "python",
   "name": "python3"
  },
  "language_info": {
   "codemirror_mode": {
    "name": "ipython",
    "version": 3
   },
   "file_extension": ".py",
   "mimetype": "text/x-python",
   "name": "python",
   "nbconvert_exporter": "python",
   "pygments_lexer": "ipython3",
   "version": "3.11.8"
  }
 },
 "nbformat": 4,
 "nbformat_minor": 5
}
