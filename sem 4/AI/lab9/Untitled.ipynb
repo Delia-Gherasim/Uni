{
 "cells": [
  {
   "cell_type": "code",
   "execution_count": 1,
   "id": "e58a0276-2835-4cd0-8a8b-57de5d0b3cb2",
   "metadata": {},
   "outputs": [],
   "source": [
    "import numpy as np\n",
    "import random\n"
   ]
  },
  {
   "cell_type": "code",
   "execution_count": 2,
   "id": "6c7b6597-990a-4060-9fc8-00e303364782",
   "metadata": {},
   "outputs": [],
   "source": [
    "def initialize_individual(num_features):\n",
    "    return np.random.permutation(num_features)"
   ]
  },
  {
   "cell_type": "code",
   "execution_count": 3,
   "id": "46b09f6b-0594-4673-b0d3-56c39cbdee45",
   "metadata": {},
   "outputs": [],
   "source": [
    "def initialize_population(num_individuals, num_features):\n",
    "    return np.array([initialize_individual(num_features) for _ in range(num_individuals)])"
   ]
  },
  {
   "cell_type": "code",
   "execution_count": 4,
   "id": "68a35d5c-daa4-470b-afe1-ef20b0e42358",
   "metadata": {},
   "outputs": [],
   "source": [
    "def fitness(weights, individual):\n",
    "    used_first_diag = {}\n",
    "    used_secondary_diag = {}\n",
    "    answer_sum = 0\n",
    "    for i in range(individual.shape[0]):\n",
    "        secondary_diag = i + individual[i]\n",
    "        first_diag = i - individual[i]\n",
    "        \n",
    "        if first_diag in used_first_diag:\n",
    "            return 0\n",
    "    \n",
    "        if secondary_diag in used_secondary_diag:\n",
    "            return 0\n",
    "        \n",
    "        used_first_diag[first_diag] = 1\n",
    "        used_secondary_diag[secondary_diag] = 1\n",
    "        answer_sum += weights[i][individual[i]] \n",
    "    return answer_sum"
   ]
  },
  {
   "cell_type": "code",
   "execution_count": 5,
   "id": "ae47e106-1dbc-4085-ad35-5e8c32a906da",
   "metadata": {},
   "outputs": [],
   "source": [
    "def selection(weights, individuals):\n",
    "    fitnesses = np.array([fitness(weights, individual) for individual in individuals]) + 1\n",
    "    probabilities = fitnesses / fitnesses.max(axis = 0)\n",
    "    selected = []\n",
    "    for i in range(individuals.shape[0]):\n",
    "        if random.random() < probabilities[i]:\n",
    "            selected.append(individuals[i])\n",
    "    return np.array(selected)\n"
   ]
  },
  {
   "cell_type": "code",
   "execution_count": 6,
   "id": "411b95e2-e5b8-4775-988d-7f573c28526b",
   "metadata": {},
   "outputs": [],
   "source": [
    "def crossover(individuals):\n",
    "    indexes = np.random.choice(individuals.shape[0], size = 2, replace=False)\n",
    "    child = np.zeros(individuals[indexes[0]].shape[0]).astype(int)\n",
    "    for i in range(individuals[indexes[0]].shape[0]):\n",
    "        child[i] = individuals[indexes[0]][individuals[indexes[1]][i]]\n",
    "    return child"
   ]
  },
  {
   "cell_type": "code",
   "execution_count": 7,
   "id": "90d464ac-f3b2-4d28-8bfd-beaffeda17f1",
   "metadata": {},
   "outputs": [],
   "source": [
    "def mutation(individual, mutation_rate):\n",
    "    if random.random() > mutation_rate:\n",
    "        return individual\n",
    "    indexes = np.random.choice(individual.shape[0], size = 2, replace=False)\n",
    "    individual[indexes[0]], individual[indexes[1]] = individual[indexes[1]], individual[indexes[0]]\n",
    "    return individual"
   ]
  },
  {
   "cell_type": "code",
   "execution_count": 8,
   "id": "eead8c40-df1c-45d4-bad9-e8bf1b3911a3",
   "metadata": {},
   "outputs": [],
   "source": [
    "def get_new_generation(weights, individuals, mutation_rate):\n",
    "    selected = selection(weights, individuals)\n",
    "    new_generation = [individual for individual in selected]\n",
    "    for _ in range(selected.shape[0], individuals.shape[0]):\n",
    "        new_generation.append(np.array(mutation(crossover(selected), mutation_rate)))\n",
    "    return np.array(new_generation)"
   ]
  },
  {
   "cell_type": "code",
   "execution_count": 9,
   "id": "ce9c7aaf-8426-4863-9834-75d33ac15b27",
   "metadata": {},
   "outputs": [],
   "source": [
    "def run_simulation(generations, number_individuals, weights, mutation_rate):\n",
    "    individuals = initialize_population(number_individuals, weights.shape[0])\n",
    "    for i in range(generations):\n",
    "        if i % 100 == 0:\n",
    "            print(f\"Done {i} generations\")\n",
    "        individuals = get_new_generation(weights, individuals, mutation_rate)\n",
    "    fitnesses = np.array([fitness(weights, individual) for individual in individuals])\n",
    "    return individuals[np.argmax(fitnesses)]"
   ]
  },
  {
   "cell_type": "code",
   "execution_count": 10,
   "id": "3ba864e3-0db5-47dc-b989-3c1ff803407f",
   "metadata": {},
   "outputs": [
    {
     "name": "stdout",
     "output_type": "stream",
     "text": [
      "Done 0 generations\n",
      "Done 100 generations\n",
      "Done 200 generations\n",
      "Done 300 generations\n",
      "Done 400 generations\n",
      "Done 500 generations\n",
      "Done 600 generations\n",
      "Done 700 generations\n",
      "Done 800 generations\n",
      "Done 900 generations\n",
      "Weights are [[0.63922035 0.7652699  0.92643421 0.08706974 0.74376274 0.7788111\n",
      "  0.41247485 0.18407671]\n",
      " [0.39728425 0.89489431 0.25796844 0.21457741 0.11549312 0.64495718\n",
      "  0.03212269 0.94905715]\n",
      " [0.19491175 0.70596587 0.13459748 0.27761583 0.99061241 0.75260039\n",
      "  0.0678761  0.0869533 ]\n",
      " [0.06230059 0.58817409 0.92506044 0.6932089  0.99948384 0.52430762\n",
      "  0.56285975 0.5608056 ]\n",
      " [0.02739625 0.56660788 0.89269918 0.58073349 0.80555549 0.20909972\n",
      "  0.86381108 0.24651522]\n",
      " [0.04989806 0.44953109 0.54057707 0.022048   0.90110631 0.97814482\n",
      "  0.44189748 0.31240834]\n",
      " [0.07682041 0.00870933 0.30928642 0.00691311 0.8915316  0.47798535\n",
      "  0.85226799 0.02261208]\n",
      " [0.39041986 0.12906622 0.42489879 0.3115599  0.30497655 0.741536\n",
      "  0.41602301 0.55672608]]\n",
      "Found [1 7 5 0 2 4 6 3] found with fitness 5.486861408325554\n"
     ]
    }
   ],
   "source": [
    "weights = np.random.rand(8, 8)\n",
    "best = run_simulation(1000, 1000, weights, 0.1)\n",
    "print(f\"Weights are {weights}\")\n",
    "print(f\"Found {best} found with fitness {fitness(weights, best)}\")"
   ]
  },
  {
   "cell_type": "code",
   "execution_count": null,
   "id": "ce06aa7d-fb44-4c6f-ad90-82bbfb035e57",
   "metadata": {},
   "outputs": [],
   "source": []
  }
 ],
 "metadata": {
  "kernelspec": {
   "display_name": "Python 3 (ipykernel)",
   "language": "python",
   "name": "python3"
  },
  "language_info": {
   "codemirror_mode": {
    "name": "ipython",
    "version": 3
   },
   "file_extension": ".py",
   "mimetype": "text/x-python",
   "name": "python",
   "nbconvert_exporter": "python",
   "pygments_lexer": "ipython3",
   "version": "3.11.8"
  }
 },
 "nbformat": 4,
 "nbformat_minor": 5
}
